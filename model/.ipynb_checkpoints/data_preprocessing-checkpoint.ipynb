{
 "cells": [
  {
   "cell_type": "code",
   "execution_count": 1,
   "id": "55f5b765",
   "metadata": {},
   "outputs": [],
   "source": [
    "# Standard libaries\n",
    "import numpy as np\n",
    "import matplotlib.pyplot as plt\n",
    "import pandas as pd\n",
    "import seaborn as sns; sns.set()   \n",
    "import configparser\n",
    "import os\n",
    "from pathlib import Path\n",
    "import argparse\n",
    "import logging\n",
    "import datetime\n",
    "import inspect\n",
    "from sklearn.utils import resample\n",
    "import re\n",
    "from datetime import datetime\n",
    "from datetime import timedelta\n",
    "import math\n",
    "import pickle"
   ]
  },
  {
   "cell_type": "markdown",
   "id": "438c520e",
   "metadata": {},
   "source": [
    "## Import data"
   ]
  },
  {
   "cell_type": "code",
   "execution_count": 2,
   "id": "587cb0f2",
   "metadata": {},
   "outputs": [],
   "source": [
    "# Get the current directory\n",
    "current_dir = os.getcwd()\n",
    "data_path = os.path.join(current_dir, 'data')"
   ]
  },
  {
   "cell_type": "code",
   "execution_count": 3,
   "id": "a615b67d",
   "metadata": {},
   "outputs": [],
   "source": [
    "# Define Export Path\n",
    "export_path = os.path.join(current_dir, 'export')\n",
    "\n",
    "# Check if the directory exists\n",
    "if not os.path.exists(export_path):\n",
    "    # Create the directory if it doesn't exist\n",
    "    os.makedirs(export_path)"
   ]
  },
  {
   "cell_type": "code",
   "execution_count": 4,
   "id": "2018af84",
   "metadata": {},
   "outputs": [],
   "source": [
    "# Import data\n",
    "file_name = 'indoor_fire_detection_multisensornodes_dataset.csv'\n",
    "data_file_path = os.path.join(data_path, file_name)\n",
    "\n",
    "df = pd.read_csv(data_file_path, index_col=0,parse_dates=True)"
   ]
  },
  {
   "cell_type": "code",
   "execution_count": 5,
   "id": "788ff5f2",
   "metadata": {},
   "outputs": [
    {
     "data": {
      "text/plain": [
       "True"
      ]
     },
     "execution_count": 5,
     "metadata": {},
     "output_type": "execute_result"
    }
   ],
   "source": [
    "# check if index is in Datetime format\n",
    "df.index.inferred_type == \"datetime64\""
   ]
  },
  {
   "cell_type": "code",
   "execution_count": 6,
   "id": "b3de3d00",
   "metadata": {},
   "outputs": [
    {
     "data": {
      "text/plain": [
       "sensornode0008    33880\n",
       "sensornode0015    33880\n",
       "sensornode0010    33880\n",
       "sensornode0012    33880\n",
       "sensornode0013    33880\n",
       "sensornode0014    33880\n",
       "sensornode0011    33880\n",
       "sensornode0016    33880\n",
       "sensornode0009    33880\n",
       "Name: Sensor_ID, dtype: int64"
      ]
     },
     "execution_count": 6,
     "metadata": {},
     "output_type": "execute_result"
    }
   ],
   "source": [
    "df['Sensor_ID'].value_counts()"
   ]
  },
  {
   "cell_type": "code",
   "execution_count": 7,
   "id": "57255a57",
   "metadata": {},
   "outputs": [
    {
     "data": {
      "text/plain": [
       "Index(['Sensor_ID', 'CO2_Room', 'CO_Room', 'H2_Room', 'Humidity_Room',\n",
       "       'PM05_Room', 'PM100_Room', 'PM10_Room', 'PM25_Room', 'PM40_Room',\n",
       "       'PM_Room_Typical_Size', 'PM_Total_Room', 'Temperature_Room', 'UV_Room',\n",
       "       'VOC_Room', 'VOC_Room_RAW', 'scenario_label', 'experiment_number',\n",
       "       'progress_label', 'anomaly_label', 'ternary_label', 'fire_label',\n",
       "       'fire_label_control'],\n",
       "      dtype='object')"
      ]
     },
     "execution_count": 7,
     "metadata": {},
     "output_type": "execute_result"
    }
   ],
   "source": [
    "df.columns"
   ]
  },
  {
   "cell_type": "code",
   "execution_count": 8,
   "id": "bd9d147c",
   "metadata": {},
   "outputs": [
    {
     "data": {
      "text/plain": [
       "2022-07-04 14:10:50+00:00     Normal\n",
       "2022-07-04 14:10:50+00:00     Normal\n",
       "2022-07-04 14:10:50+00:00     Normal\n",
       "2022-07-04 14:10:50+00:00     Normal\n",
       "2022-07-04 14:10:50+00:00     Normal\n",
       "                              ...   \n",
       "2022-07-08 12:17:20+00:00    Anomaly\n",
       "2022-07-08 12:17:20+00:00    Anomaly\n",
       "2022-07-08 12:17:20+00:00    Anomaly\n",
       "2022-07-08 12:17:20+00:00    Anomaly\n",
       "2022-07-08 12:17:20+00:00    Anomaly\n",
       "Name: anomaly_label, Length: 304920, dtype: object"
      ]
     },
     "execution_count": 8,
     "metadata": {},
     "output_type": "execute_result"
    }
   ],
   "source": [
    "df.anomaly_label"
   ]
  },
  {
   "cell_type": "code",
   "execution_count": 9,
   "id": "99226a9e",
   "metadata": {},
   "outputs": [
    {
     "data": {
      "text/plain": [
       "array(['Background', 'Wood', 'Candles', 'Cable', 'Ethanol', 'Lunts',\n",
       "       'Deodorant', 'Hairspray'], dtype=object)"
      ]
     },
     "execution_count": 9,
     "metadata": {},
     "output_type": "execute_result"
    }
   ],
   "source": [
    "df.scenario_label.unique()"
   ]
  },
  {
   "cell_type": "markdown",
   "id": "4734057b",
   "metadata": {},
   "source": [
    "## Define Function for Deriving non-overlapping Intervals"
   ]
  },
  {
   "cell_type": "code",
   "execution_count": 10,
   "id": "34624a57",
   "metadata": {},
   "outputs": [],
   "source": [
    "def split_intervals_non_overlapping(df_input, w):\n",
    "    ChunksSizes = []\n",
    "    T = len(df_input.index.unique())\n",
    "    complete_chunks = T // w  # Calculate the number of complete chunks\n",
    "    remaining_data = T % w    # Calculate the remaining data points\n",
    "    \n",
    "    for i in range(complete_chunks):\n",
    "        ChunksSizes.append(w)\n",
    "    \n",
    "    if remaining_data >= w:\n",
    "        ChunksSizes.append(w)\n",
    "\n",
    "    SplitIndexes = [sum(ChunksSizes[:i]) for i in range(complete_chunks)] # +1\n",
    "    FilteredSplitIndexes = list(map(lambda x: x * 10, SplitIndexes))\n",
    "    \n",
    "    # Explicitly create a copy of the DataFrame to avoid SettingWithCopyWarning\n",
    "    df_input = df_input.copy()\n",
    "\n",
    "    # Create Date column with relativ time delta\n",
    "    df_input['date'] = (df_input.index - df_input.index.min()).total_seconds()\n",
    "    df_input['date'] = df_input['date'].astype(int)\n",
    "\n",
    "    # Create intervals based on the split values\n",
    "    for i in range(len(FilteredSplitIndexes)):\n",
    "        row = FilteredSplitIndexes[i]\n",
    "        interval_label = int(i) #+ 1\n",
    "        df_input.loc[df_input.date.isin([row]), 'interval_label'] = interval_label\n",
    "\n",
    "    # Calculate the length of the remaining data after the last split index\n",
    "    last_split_index = FilteredSplitIndexes[-1]\n",
    "\n",
    "    # For rows after the last interval_label, write 'drop'\n",
    "    df_input.loc[df_input.date >= last_split_index, 'interval_label'] = 'drop'\n",
    "\n",
    "    # Apply ffill and bfill\n",
    "    df_input['interval_label'] = df_input['interval_label'].ffill().bfill()\n",
    "\n",
    "    # Drop all rows containing 'drop' in X_t.Interval_label (after the last splitindex, there is no full interval anymore)\n",
    "    df_input = df_input[df_input['interval_label'] != 'drop']\n",
    "\n",
    "    # Convert Interval_label to integer\n",
    "    df_input['interval_label'] = df_input['interval_label'].astype(int)\n",
    "\n",
    "    return df_input"
   ]
  },
  {
   "cell_type": "markdown",
   "id": "8eb91a91",
   "metadata": {},
   "source": [
    "## Drop Ventilation Artefacts"
   ]
  },
  {
   "cell_type": "code",
   "execution_count": 11,
   "id": "26f9a0d9",
   "metadata": {},
   "outputs": [
    {
     "data": {
      "text/plain": [
       "progress_label  Sensor_ID     \n",
       "Unknown         sensornode0012    28372\n",
       "Ventilating     sensornode0012     2193\n",
       "                sensornode0013     2182\n",
       "                sensornode0008     2179\n",
       "                sensornode0014     2179\n",
       "                sensornode0010     2177\n",
       "                sensornode0016     2177\n",
       "                sensornode0015     2176\n",
       "                sensornode0009     2175\n",
       "                sensornode0011     2174\n",
       "Name: Sensor_ID, dtype: int64"
      ]
     },
     "execution_count": 11,
     "metadata": {},
     "output_type": "execute_result"
    }
   ],
   "source": [
    "df.groupby(by= 'progress_label')['Sensor_ID'].value_counts().tail(10)"
   ]
  },
  {
   "cell_type": "code",
   "execution_count": 12,
   "id": "e889c55e",
   "metadata": {},
   "outputs": [
    {
     "data": {
      "text/plain": [
       "sensornode0008    33880\n",
       "sensornode0015    33880\n",
       "sensornode0010    33880\n",
       "sensornode0012    33880\n",
       "sensornode0013    33880\n",
       "sensornode0014    33880\n",
       "sensornode0011    33880\n",
       "sensornode0016    33880\n",
       "sensornode0009    33880\n",
       "Name: Sensor_ID, dtype: int64"
      ]
     },
     "execution_count": 12,
     "metadata": {},
     "output_type": "execute_result"
    }
   ],
   "source": [
    "df.Sensor_ID.value_counts()"
   ]
  },
  {
   "cell_type": "code",
   "execution_count": 13,
   "id": "81d037ed",
   "metadata": {},
   "outputs": [],
   "source": [
    "# Cut ventilating phase (not relevant for detection)\n",
    "mask = df['progress_label'] != 'Ventilating'\n",
    "df = df[mask]"
   ]
  },
  {
   "cell_type": "code",
   "execution_count": 14,
   "id": "c0670c85",
   "metadata": {},
   "outputs": [],
   "source": [
    "# resample based on every single sensor node\n",
    "df_resampled = df.groupby(by='Sensor_ID').resample('10S').bfill()"
   ]
  },
  {
   "cell_type": "code",
   "execution_count": 15,
   "id": "46400b45",
   "metadata": {},
   "outputs": [],
   "source": [
    "# Reset index\n",
    "df_resampled = df_resampled.droplevel('Sensor_ID', axis=0).sort_index()"
   ]
  },
  {
   "cell_type": "code",
   "execution_count": 16,
   "id": "337c47c5",
   "metadata": {},
   "outputs": [],
   "source": [
    "# drop last row of each sensor node beacause of unequal ventilation label\n",
    "df_resampled.drop(df_resampled.tail(1).index,inplace=True)"
   ]
  },
  {
   "cell_type": "code",
   "execution_count": 17,
   "id": "e02dd33c",
   "metadata": {},
   "outputs": [
    {
     "data": {
      "text/plain": [
       "sensornode0008    33872\n",
       "sensornode0009    33872\n",
       "sensornode0016    33872\n",
       "sensornode0010    33872\n",
       "sensornode0013    33872\n",
       "sensornode0012    33872\n",
       "sensornode0011    33872\n",
       "sensornode0014    33872\n",
       "sensornode0015    33872\n",
       "Name: Sensor_ID, dtype: int64"
      ]
     },
     "execution_count": 17,
     "metadata": {},
     "output_type": "execute_result"
    }
   ],
   "source": [
    "df_resampled.Sensor_ID.value_counts()"
   ]
  },
  {
   "cell_type": "markdown",
   "id": "98e118a5",
   "metadata": {},
   "source": [
    "## Derive Intervals"
   ]
  },
  {
   "cell_type": "code",
   "execution_count": 18,
   "id": "9c0b795b",
   "metadata": {},
   "outputs": [],
   "source": [
    "# Define variables\n",
    "overlapping_intervals = False #True\n",
    "w = 9 # interval length as number of time points\n",
    "overlap = w/4 # length of overlap of intervals"
   ]
  },
  {
   "cell_type": "code",
   "execution_count": 19,
   "id": "285d6149",
   "metadata": {
    "scrolled": true
   },
   "outputs": [],
   "source": [
    "# derive dataframe with intervals\n",
    "if overlapping_intervals == False:\n",
    "    df_intervals = split_intervals_non_overlapping(df_resampled, w)\n",
    "else: \n",
    "    print('work in progress')"
   ]
  },
  {
   "cell_type": "code",
   "execution_count": 20,
   "id": "9e10b94c",
   "metadata": {},
   "outputs": [
    {
     "data": {
      "text/plain": [
       "array([81])"
      ]
     },
     "execution_count": 20,
     "metadata": {},
     "output_type": "execute_result"
    }
   ],
   "source": [
    "df_intervals.interval_label.value_counts().unique()"
   ]
  },
  {
   "cell_type": "code",
   "execution_count": 21,
   "id": "3c92bf2e",
   "metadata": {},
   "outputs": [
    {
     "data": {
      "text/plain": [
       "array(['NoFire', 'Fire'], dtype=object)"
      ]
     },
     "execution_count": 21,
     "metadata": {},
     "output_type": "execute_result"
    }
   ],
   "source": [
    "df_intervals.fire_label.unique()"
   ]
  },
  {
   "cell_type": "markdown",
   "id": "12e5fbad",
   "metadata": {},
   "source": [
    "## Adjust fire_label to interval size"
   ]
  },
  {
   "cell_type": "code",
   "execution_count": 22,
   "id": "8495a658",
   "metadata": {},
   "outputs": [],
   "source": [
    "# if interval includes fire sequence, the interval should be labeled as fire\n",
    "# Group the DataFrame by \"interval_label\"\n",
    "grouped = df_intervals.groupby('interval_label')\n",
    "\n",
    "# Iterate over each group\n",
    "for _, group in grouped:\n",
    "    if 'Fire' in group['fire_label'].values:\n",
    "        # If 'fire' label exists in the group, assign 'fire' for the whole group\n",
    "        df_intervals.loc[group.index, 'fire_label'] = 'Fire'"
   ]
  },
  {
   "cell_type": "code",
   "execution_count": 23,
   "id": "faa1c03e",
   "metadata": {},
   "outputs": [
    {
     "data": {
      "text/plain": [
       "interval_label  fire_label\n",
       "0               NoFire        81\n",
       "1               NoFire        81\n",
       "2               NoFire        81\n",
       "3               NoFire        81\n",
       "4               NoFire        81\n",
       "                              ..\n",
       "3757            NoFire        81\n",
       "3758            NoFire        81\n",
       "3759            NoFire        81\n",
       "3760            NoFire        81\n",
       "3761            NoFire        81\n",
       "Name: fire_label, Length: 3762, dtype: int64"
      ]
     },
     "execution_count": 23,
     "metadata": {},
     "output_type": "execute_result"
    }
   ],
   "source": [
    "df_intervals.groupby(by='interval_label')['fire_label'].value_counts()"
   ]
  },
  {
   "cell_type": "markdown",
   "id": "03d45197",
   "metadata": {},
   "source": [
    "## Export"
   ]
  },
  {
   "cell_type": "code",
   "execution_count": 24,
   "id": "a14ec8c6",
   "metadata": {},
   "outputs": [],
   "source": [
    "# Export dataset\n",
    "file_name = f'indoor_fire_detection_multisensornodes_dataset_preprocessed.csv'\n",
    "data_file_path = os.path.join(data_path, file_name)\n",
    "df_intervals.to_csv(data_file_path) "
   ]
  }
 ],
 "metadata": {
  "kernelspec": {
   "display_name": "Python 3 (ipykernel)",
   "language": "python",
   "name": "python3"
  },
  "language_info": {
   "codemirror_mode": {
    "name": "ipython",
    "version": 3
   },
   "file_extension": ".py",
   "mimetype": "text/x-python",
   "name": "python",
   "nbconvert_exporter": "python",
   "pygments_lexer": "ipython3",
   "version": "3.10.14"
  }
 },
 "nbformat": 4,
 "nbformat_minor": 5
}
